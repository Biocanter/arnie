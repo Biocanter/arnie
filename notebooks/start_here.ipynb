{
 "cells": [
  {
   "cell_type": "code",
   "execution_count": 72,
   "metadata": {},
   "outputs": [
    {
     "name": "stdout",
     "output_type": "stream",
     "text": [
      "The autoreload extension is already loaded. To reload it, use:\n",
      "  %reload_ext autoreload\n",
      "Populating the interactive namespace from numpy and matplotlib\n"
     ]
    }
   ],
   "source": [
    "%load_ext autoreload\n",
    "%autoreload 2\n",
    "%pylab inline\n",
    "\n",
    "import seaborn as sns\n",
    "sns.set_context('poster')\n",
    "sns.set_style('white')\n",
    "import numpy as np\n",
    "from arnie.pfunc import pfunc\n",
    "from arnie.free_energy import free_energy\n",
    "from arnie.bpps import bpps\n",
    "import arnie.utils as utils\n",
    "from decimal import Decimal\n",
    "\n",
    "# Hammerhead ribozyme example sequence:\n",
    "sequence = \"ACGCUGUCUGUACUUGUAUCAGUACACUGACGAGUCCCUAAAGGACGAAACAGCGC\""
   ]
  },
  {
   "cell_type": "markdown",
   "metadata": {},
   "source": [
    "### Some simple examples of syntax and functionality in arnie."
   ]
  },
  {
   "cell_type": "markdown",
   "metadata": {},
   "source": [
    "## Utilities"
   ]
  },
  {
   "cell_type": "code",
   "execution_count": 2,
   "metadata": {},
   "outputs": [
    {
     "name": "stdout",
     "output_type": "stream",
     "text": [
      "rnastructure /Users/hwayment/das/software/RNAstructure/exe\n",
      "linearpartition /Users/hwayment/das/software/LinearPartition/bin\n",
      "linearfold /Users/hwayment/das/software/LinearFold/bin\n",
      "rnasoft /Users/hwayment/das/software/MultiRNAFold\n",
      "contrafold_1 None\n",
      "contrafold_2 /Users/hwayment/das/software/EternaFold/src\n",
      "vienna_2 /usr/local/bin\n",
      "nupack /Users/hwayment/das/software/nupack3.0.6/bin\n"
     ]
    }
   ],
   "source": [
    "# see current package locations in path file:\n",
    "utils.print_available_packages()"
   ]
  },
  {
   "cell_type": "code",
   "execution_count": 8,
   "metadata": {},
   "outputs": [
    {
     "name": "stdout",
     "output_type": "stream",
     "text": [
      "Available packages: ['rnastructure', 'rnasoft', 'contrafold_2', 'vienna_2', 'nupack']\n"
     ]
    }
   ],
   "source": [
    "# get list of available working packages:\n",
    "avail_packages = utils.package_list()\n",
    "print('Available packages:', avail_packages)"
   ]
  },
  {
   "cell_type": "code",
   "execution_count": 5,
   "metadata": {},
   "outputs": [
    {
     "name": "stdout",
     "output_type": "stream",
     "text": [
      "-16.91\n",
      "-16.91\n",
      "-16.91\n",
      "-16.91\n"
     ]
    }
   ],
   "source": [
    "#agnostic to capitalization in package name.\n",
    "#package version must be specified after package name by underscore, 'vienna_2', not 'vienna 2'.\n",
    "for package_name in ['vienna','VIENNA','Vienna','vienna_2']:\n",
    "    Z = free_energy(sequence,package=package_name)\n",
    "    print(Z)"
   ]
  },
  {
   "cell_type": "markdown",
   "metadata": {},
   "source": [
    "## Partition Function"
   ]
  },
  {
   "cell_type": "code",
   "execution_count": 36,
   "metadata": {},
   "outputs": [
    {
     "name": "stdout",
     "output_type": "stream",
     "text": [
      "rnastructure 6.45E+13\n",
      "rnasoft 5.08E+10\n",
      "contrafold_2 1.00E+03\n",
      "vienna_2 2.94E+12\n"
     ]
    }
   ],
   "source": [
    "# Compute Z: \n",
    "\n",
    "for pkg in avail_packages:\n",
    "    Z = pfunc(sequence, package=pkg)\n",
    "    print('%s %.2E' % (pkg, Z))"
   ]
  },
  {
   "cell_type": "code",
   "execution_count": 9,
   "metadata": {},
   "outputs": [
    {
     "name": "stdout",
     "output_type": "stream",
     "text": [
      "Package\tconstr_Z\tZ\tp(motif)\n",
      "rnastructure\t1.22E+08\t6.45E+13\t0.00\n",
      "ERROR: RNAsoft is unable to handle constraints for calculating                 partition functions, returning unconstrained Z.\n",
      "rnasoft\t2.91E+06\t2.91E+06\t1.00\n",
      "contrafold_2\t3.70E+02\t9.67E+02\t0.38\n",
      "vienna_2\t6.10E+11\t8.04E+11\t0.76\n",
      "nupack\t6.91E+10\t6.91E+10\t1.00\n"
     ]
    }
   ],
   "source": [
    "# Compute constrained Z, example here is of HHR ribozyme closing stem.\n",
    "# Note not all packages can do this -- RNASoft will throw an error.\n",
    "\n",
    "constr = '.((((((..........................................)))))).'\n",
    "\n",
    "# Compute Z: \n",
    "print('Package\\tconstr_Z\\tZ\\tp(motif)')\n",
    "for pkg in avail_packages:\n",
    "    Z = pfunc(sequence, package=pkg)\n",
    "    constr_Z = pfunc(sequence, package=pkg, constraint=constr)\n",
    "    p_closing_stem = constr_Z / Z\n",
    "    \n",
    "    print('%s\\t%.2E\\t%.2E\\t%.2f' % (pkg, constr_Z, Z, p_closing_stem))"
   ]
  },
  {
   "cell_type": "code",
   "execution_count": 38,
   "metadata": {},
   "outputs": [
    {
     "name": "stdout",
     "output_type": "stream",
     "text": [
      "Constrained Z using Vienna motif method: 2.9407E+12\n",
      "Constrained Z using constraint method (Vienna): 2.5672E+12\n"
     ]
    }
   ],
   "source": [
    "#Compare to vienna's motif method:\n",
    "\n",
    "motif_Z_constr = pfunc(sequence,package='vienna_2', motif=constr)\n",
    "constrained_Z_constr = pfunc(sequence,package='vienna_2', constraint=constr)\n",
    "\n",
    "print(\"Constrained Z using Vienna motif method: %.4E\" % motif_Z_constr)\n",
    "print(\"Constrained Z using constraint method (Vienna): %.4E\" % constrained_Z_constr)"
   ]
  },
  {
   "cell_type": "markdown",
   "metadata": {},
   "source": [
    "## Accessing package-specific options"
   ]
  },
  {
   "cell_type": "code",
   "execution_count": 14,
   "metadata": {},
   "outputs": [
    {
     "name": "stdout",
     "output_type": "stream",
     "text": [
      "Vienna with dangles: -16.91\n",
      "Vienna no dangles: -13.37\n",
      "\n",
      "RNAStructure with dangles: -18.73\n",
      "RNAStructure no dangles: -17.76\n",
      "\n",
      "Vienna 37 C (standard): -16.91\n",
      "Vienna 70 C: -5.50\n"
     ]
    }
   ],
   "source": [
    "print(\"Vienna with dangles: %.2f\" % free_energy(sequence,package='vienna_2',dangles=True))\n",
    "print(\"Vienna no dangles: %.2f\" % free_energy(sequence,package='vienna_2',dangles=False))\n",
    "print('')\n",
    "print(\"RNAStructure with dangles: %.2f\" % free_energy(sequence,package='rnastructure',coaxial=True))\n",
    "print(\"RNAStructure no dangles: %.2f\" % free_energy(sequence,package='rnastructure',coaxial=False))\n",
    "print('')\n",
    "print(\"Vienna 37 C (standard): %.2f\" % free_energy(sequence,package='vienna_2'))\n",
    "print(\"Vienna 70 C: %.2f\" % free_energy(sequence,package='vienna_2',T=70))"
   ]
  },
  {
   "cell_type": "code",
   "execution_count": 17,
   "metadata": {},
   "outputs": [
    {
     "name": "stdout",
     "output_type": "stream",
     "text": [
      "Vienna: -16.91\n",
      "Warning: vienna does not support coaxial options\n",
      "Vienna: -16.91\n"
     ]
    }
   ],
   "source": [
    "#Will throw an error if a package doesn't support the selected option\n",
    "print(\"Vienna: %.2f\" % free_energy(sequence,package='vienna_2',coaxial=True))\n",
    "print(\"Vienna: %.2f\" % free_energy(sequence,package='vienna_2',coaxial=False))"
   ]
  },
  {
   "cell_type": "markdown",
   "metadata": {},
   "source": [
    "## Predict base pair probabilities"
   ]
  },
  {
   "cell_type": "code",
   "execution_count": 78,
   "metadata": {},
   "outputs": [
    {
     "data": {
      "image/png": "[encoded data removed]",
      "text/plain": [
       "<Figure size 864x576 with 5 Axes>"
      ]
     },
     "metadata": {},
     "output_type": "display_data"
    }
   ],
   "source": [
    "figure(figsize=(12,8))\n",
    "\n",
    "for i,pkg in enumerate(sorted(avail_packages)):\n",
    "    bp_matrix = bpps(sequence, package=pkg)\n",
    "    subplot(2,3,i+1)\n",
    "    axis(linewidth=0.5)\n",
    "    imshow(bp_matrix,cmap='gist_heat_r')\n",
    "    title(pkg.title())\n",
    "    \n",
    "tight_layout()\n",
    "savefig('../assets/example_base_pair_matrices.png',dpi=150, bbox_inches='tight')"
   ]
  },
  {
   "cell_type": "markdown",
   "metadata": {},
   "source": [
    "## Use base pair matrix to get p(unpaired)"
   ]
  },
  {
   "cell_type": "code",
   "execution_count": 66,
   "metadata": {},
   "outputs": [
    {
     "data": {
      "image/png": "[encoded data removed]",
      "text/plain": [
       "<Figure size 432x288 with 7 Axes>"
      ]
     },
     "metadata": {
      "needs_background": "light"
     },
     "output_type": "display_data"
    }
   ],
   "source": [
    "for i,pkg in enumerate(sorted(avail_packages)):\n",
    "    bp_matrix = bpps(sequence, package=pkg)\n",
    "    \n",
    "    # We sum all values over one axis to get total base pairing probability per nucleotide.\n",
    "    \n",
    "    p_net_base_pairing = np.sum(bp_matrix, axis=0)\n",
    "    \n",
    "    # to get total probability unpaired, we would take 1 - p_net_base_pairing.\n",
    "    subplot(6,1,i+1)\n",
    "    \n",
    "    imshow(p_net_base_pairing.reshape(1,-1),cmap='gist_heat_r')\n",
    "    yticks([])\n",
    "    title(pkg.title())\n",
    "    if i==4: \n",
    "        xlabel('Sequence position')\n",
    "    else:\n",
    "        xticks([])\n",
    "subplot(6,1,6)\n",
    "axis('off')\n",
    "colorbar(orientation='horizontal', label='p(paired)')\n",
    "savefig('../assets/example_avg_bp_per_nucleotide.png',dpi=150, bbox_inches='tight')\n"
   ]
  },
  {
   "cell_type": "markdown",
   "metadata": {},
   "source": [
    "## Predict MEA structure from base pair probabilities"
   ]
  },
  {
   "cell_type": "code",
   "execution_count": 62,
   "metadata": {},
   "outputs": [
    {
     "name": "stdout",
     "output_type": "stream",
     "text": [
      "Scanning gamma for rnastructure bp probabilities\n",
      "log_g\tstruct\tE[MCC]\tMCC\n",
      "-4 ........................................................ 0.00 0.00\n",
      "-3 ........................................................ 0.00 0.00\n",
      "-2 ..(((..............................................))).. 0.43 0.43\n",
      "-1 .((((((.(((((........))))).......((((.....))))...)))))). 0.95 0.97\n",
      "0 .((((((.((((((......)))))).......((((.....))))...)))))). 0.97 1.00\n",
      "1 .((((((.((((((......)))))).......((((.....))))...)))))). 0.97 1.00\n",
      "2 .(((((((((((((.(...)))))))..)....((((.....))))...)))))). 0.92 1.00\n",
      "3 .(((((((((((((.(...)))))))..).(..((((.....)))))..)))))). 0.90 1.00\n",
      "Scanning gamma for rnasoft bp probabilities\n",
      "log_g\tstruct\tE[MCC]\tMCC\n",
      "-4 ........................................................ 0.00 0.00\n",
      "-3 ........................................................ 0.00 0.00\n",
      "-2 ........................................................ 0.00 0.00\n",
      "-1 ..((................................................)).. 0.33 0.35\n",
      "0 .((((((.((((((......)))))).......((((.....))))...)))))). 0.82 1.00\n",
      "1 .(((((((((((((......))))))..)....((((.....))))...)))))). 0.81 1.00\n",
      "2 .(((((((((((((.(...)))))))..).(..((((.....)))))..)))))). 0.77 1.00\n",
      "3 .(((((((((((((.(...)))))))..).(..((((.....)))))..)))))). 0.77 1.00\n",
      "Scanning gamma for contrafold_2 bp probabilities\n",
      "log_g\tstruct\tE[MCC]\tMCC\n",
      "-4 ........................................................ 0.00 0.00\n",
      "-3 ........................................................ 0.00 0.00\n",
      "-2 ........................................................ 0.00 0.00\n",
      "-1 ........................................................ 0.00 0.00\n",
      "0 .(((((..((((((......)))))).......((((.....))))....))))). 0.73 0.97\n",
      "1 .(((((((((((((......))))))..)....((((.....))))...)))))). 0.73 1.00\n",
      "2 .(((((((((((((.(...)))))))..).(..((((.....)))))..)))))). 0.69 1.00\n",
      "3 .(((((((((((((.(...)))))))..).(..((((.(..))))))..)))))). 0.68 1.00\n",
      "Scanning gamma for vienna_2 bp probabilities\n",
      "log_g\tstruct\tE[MCC]\tMCC\n",
      "-4 ........................................................ 0.00 0.00\n",
      "-3 ........................................................ 0.00 0.00\n",
      "-2 ..((................................................)).. 0.35 0.35\n",
      "-1 .(((((...((((........))))........((((.....))))....))))). 0.86 0.90\n",
      "0 .((((((.((((((......)))))).......((((.....))))...)))))). 0.92 1.00\n",
      "1 .(((((((((((((......))))))..)....((((.....))))...)))))). 0.90 1.00\n",
      "2 .(((((((((((((.(...)))))))..)....((((.....))))...)))))). 0.88 1.00\n",
      "3 .(((((((((((((.(...)))))))..).(..((((.....)))))..)))))). 0.85 1.00\n",
      "Scanning gamma for nupack bp probabilities\n",
      "log_g\tstruct\tE[MCC]\tMCC\n",
      "-4 ........................................................ 0.00 0.00\n",
      "-3 ........................................................ 0.00 0.00\n",
      "-2 ........................................................ 0.00 0.00\n",
      "-1 ..((.............................((((.....))))......)).. 0.57 0.61\n",
      "0 .((((((.((((((......)))))).......((((.....))))...)))))). 0.83 1.00\n",
      "1 .(((((((((((((......))))))..)....((((.....))))...)))))). 0.83 1.00\n",
      "2 .(((((((((((((.(...)))))))..).(..((((.....)))))..)))))). 0.79 1.00\n",
      "3 .(((((((((((((.(...)))))))..).(..((((.....)))))..)))))). 0.79 1.00\n"
     ]
    }
   ],
   "source": [
    "from arnie.mea.mea import MEA\n",
    "\n",
    "ground_truth_struct = '.((((((.((((((......)))))).......((((.....))))...)))))).'\n",
    "\n",
    "for pkg in avail_packages:\n",
    "    \n",
    "    bp_matrix = bpps(sequence, package=pkg)\n",
    "    print('Scanning gamma for %s bp probabilities' % pkg)\n",
    "    print(\"log_g\\tstruct\\tE[MCC]\\tMCC\")\n",
    "    \n",
    "    for log_gamma in range(-4,4):\n",
    "        mea_mdl = MEA(bp_matrix,gamma=10**log_gamma)\n",
    "        [exp_sen, exp_ppv, exp_mcc, exp_fscore] = mea_mdl.score_expected()\n",
    "        [sen, ppv, mcc, fscore] = mea_mdl.score_ground_truth(ground_truth_struct)\n",
    "\n",
    "        print(\"%d %s %.2f %.2f\" % (log_gamma, mea_mdl.structure, exp_mcc, mcc))"
   ]
  },
  {
   "cell_type": "code",
   "execution_count": null,
   "metadata": {},
   "outputs": [],
   "source": []
  }
 ],
 "metadata": {
  "kernelspec": {
   "display_name": "Python 3",
   "language": "python",
   "name": "python3"
  },
  "language_info": {
   "codemirror_mode": {
    "name": "ipython",
    "version": 3
   },
   "file_extension": ".py",
   "mimetype": "text/x-python",
   "name": "python",
   "nbconvert_exporter": "python",
   "pygments_lexer": "ipython3",
   "version": "3.7.3"
  }
 },
 "nbformat": 4,
 "nbformat_minor": 4
}

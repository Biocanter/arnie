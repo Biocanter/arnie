{
 "cells": [
  {
   "cell_type": "code",
   "execution_count": 1,
   "metadata": {},
   "outputs": [
    {
     "name": "stdout",
     "output_type": "stream",
     "text": [
      "Populating the interactive namespace from numpy and matplotlib\n"
     ]
    }
   ],
   "source": [
    "# %load /Users/hwayment/ipynb_defaults.py\n",
    "%load_ext autoreload\n",
    "%autoreload 2\n",
    "\n",
    "%pylab inline\n",
    "import numpy as np\n",
    "import pandas as pd\n",
    "\n",
    "import seaborn as sns\n",
    "sns.set_style('white')\n",
    "sns.set_context('poster')\n",
    "\n",
    "from matplotlib.colors import LogNorm\n",
    "\n",
    "from glob import glob\n",
    "import os, sys, pickle, requests\n"
   ]
  },
  {
   "cell_type": "code",
   "execution_count": 2,
   "metadata": {},
   "outputs": [],
   "source": [
    "from arnie.pfunc import pfunc\n",
    "from arnie.free_energy import free_energy"
   ]
  },
  {
   "cell_type": "markdown",
   "metadata": {},
   "source": [
    "### Documenting a possible bug in using constrained partition functions in RNAstructure."
   ]
  },
  {
   "cell_type": "code",
   "execution_count": 21,
   "metadata": {},
   "outputs": [
    {
     "name": "stdout",
     "output_type": "stream",
     "text": [
      "Z vienna:\t\t7949.284\n",
      "Z vienna constr:\t5387.170\n",
      "Z rnastruct:\t\t15042.349\n",
      "/Users/hwayment/das/software/RNAstructure/exe/partition /Users/hwayment/das/tmp/vgeljp.in /Users/hwayment/das/tmp/jhbjly.pfs -T 310 --constraint /Users/hwayment/das/tmp/cgulha.CON\n",
      "stdout\n",
      "b'Initializing nucleic acids...done.\\nSetting temperature...done.\\nApplying constraints...done.\\nCalculating partition function...\\r  0% [=                                                 ] /                     \\r 26% [==============                                    ] -                     \\r 52% [===========================                       ] \\\\                     \\r 78% [========================================          ] |                     done.\\nSingle strand partition function complete.\\n'\n",
      "stderr\n",
      "b''\n",
      "/Users/hwayment/das/software/RNAstructure/exe/EnsembleEnergy /Users/hwayment/das/tmp/jhbjly.pfs\n",
      "stdout\n",
      "b'Initializing nucleic acids...done.\\nCalculating ensemble energy...done.\\n\\nEnsemble energy for /Users/hwayment/das/tmp/jhbjly.pfs: 5.18592 kcal/mol\\n\\nEnsemble energy calculation complete.\\n'\n",
      "stderr\n",
      "b''\n",
      "Ensemble energy for /Users/hwayment/das/tmp/jhbjly.pfs: 5.18592 kcal/mol\n",
      "Z rnastruct constr:\t0.000\n"
     ]
    }
   ],
   "source": [
    "seq = 'ACAUGAGGAUCACCCAUGU'\n",
    "#ms2 = '(((((.((....)))))))'\n",
    "ms2 = '(((((.((.x..)))))))'\n",
    "print('Z vienna:\\t\\t%.3f' % pfunc(seq, package='vienna'))\n",
    "print('Z vienna constr:\\t%.3f' % pfunc(seq, package='vienna',constraint=ms2))\n",
    "\n",
    "print('Z rnastruct:\\t\\t%.3f' % pfunc(seq, package='rnastructure'))\n",
    "print('Z rnastruct constr:\\t%.3f' % pfunc(seq, package='rnastructure',constraint=ms2,DEBUG=True))"
   ]
  },
  {
   "cell_type": "code",
   "execution_count": 19,
   "metadata": {},
   "outputs": [
    {
     "name": "stdout",
     "output_type": "stream",
     "text": [
      "-5.3\n",
      "5.18592\n"
     ]
    }
   ],
   "source": [
    "print(free_energy(seq, package='vienna',constraint=ms2))\n",
    "print(free_energy(seq, package='rnastructure',constraint=ms2))\n"
   ]
  },
  {
   "cell_type": "code",
   "execution_count": 23,
   "metadata": {},
   "outputs": [
    {
     "name": "stdout",
     "output_type": "stream",
     "text": [
      "SS:\n",
      "10\n",
      "-1\n",
      "Pairs:\n",
      "1 19\n",
      "2 18\n",
      "3 17\n",
      "4 16\n",
      "5 15\n",
      "7 14\n",
      "8 13\n",
      "-1 -1"
     ]
    }
   ],
   "source": [
    "! cat /Users/hwayment/das/tmp/cgulha.CON"
   ]
  },
  {
   "cell_type": "code",
   "execution_count": null,
   "metadata": {},
   "outputs": [],
   "source": []
  }
 ],
 "metadata": {
  "kernelspec": {
   "display_name": "Python 3",
   "language": "python",
   "name": "python3"
  },
  "language_info": {
   "codemirror_mode": {
    "name": "ipython",
    "version": 3
   },
   "file_extension": ".py",
   "mimetype": "text/x-python",
   "name": "python",
   "nbconvert_exporter": "python",
   "pygments_lexer": "ipython3",
   "version": "3.7.3"
  }
 },
 "nbformat": 4,
 "nbformat_minor": 4
}
